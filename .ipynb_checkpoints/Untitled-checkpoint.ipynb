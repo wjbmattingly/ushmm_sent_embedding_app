{
 "cells": [
  {
   "cell_type": "code",
   "execution_count": 1,
   "id": "existing-newsletter",
   "metadata": {},
   "outputs": [],
   "source": [
    "import pandas as pd"
   ]
  },
  {
   "cell_type": "code",
   "execution_count": 13,
   "id": "green-business",
   "metadata": {},
   "outputs": [
    {
     "data": {
      "text/html": [
       "<div>\n",
       "<style scoped>\n",
       "    .dataframe tbody tr th:only-of-type {\n",
       "        vertical-align: middle;\n",
       "    }\n",
       "\n",
       "    .dataframe tbody tr th {\n",
       "        vertical-align: top;\n",
       "    }\n",
       "\n",
       "    .dataframe thead th {\n",
       "        text-align: right;\n",
       "    }\n",
       "</style>\n",
       "<table border=\"1\" class=\"dataframe\">\n",
       "  <thead>\n",
       "    <tr style=\"text-align: right;\">\n",
       "      <th></th>\n",
       "      <th>Unnamed: 0</th>\n",
       "      <th>sent_nums</th>\n",
       "      <th>total_hits</th>\n",
       "    </tr>\n",
       "  </thead>\n",
       "  <tbody>\n",
       "    <tr>\n",
       "      <th>9109</th>\n",
       "      <td>9109</td>\n",
       "      <td>2</td>\n",
       "      <td>[80879]</td>\n",
       "    </tr>\n",
       "    <tr>\n",
       "      <th>14389</th>\n",
       "      <td>14389</td>\n",
       "      <td>2</td>\n",
       "      <td>[226229]</td>\n",
       "    </tr>\n",
       "    <tr>\n",
       "      <th>17087</th>\n",
       "      <td>17087</td>\n",
       "      <td>2</td>\n",
       "      <td>[156118]</td>\n",
       "    </tr>\n",
       "    <tr>\n",
       "      <th>147152</th>\n",
       "      <td>147152</td>\n",
       "      <td>2</td>\n",
       "      <td>[172701]</td>\n",
       "    </tr>\n",
       "    <tr>\n",
       "      <th>29608</th>\n",
       "      <td>29608</td>\n",
       "      <td>2</td>\n",
       "      <td>[6625]</td>\n",
       "    </tr>\n",
       "    <tr>\n",
       "      <th>...</th>\n",
       "      <td>...</td>\n",
       "      <td>...</td>\n",
       "      <td>...</td>\n",
       "    </tr>\n",
       "    <tr>\n",
       "      <th>89074</th>\n",
       "      <td>89074</td>\n",
       "      <td>737140</td>\n",
       "      <td>[733891]</td>\n",
       "    </tr>\n",
       "    <tr>\n",
       "      <th>216278</th>\n",
       "      <td>216278</td>\n",
       "      <td>737140</td>\n",
       "      <td>[727385]</td>\n",
       "    </tr>\n",
       "    <tr>\n",
       "      <th>168387</th>\n",
       "      <td>168387</td>\n",
       "      <td>737140</td>\n",
       "      <td>[704943]</td>\n",
       "    </tr>\n",
       "    <tr>\n",
       "      <th>172022</th>\n",
       "      <td>172022</td>\n",
       "      <td>737140</td>\n",
       "      <td>[715426]</td>\n",
       "    </tr>\n",
       "    <tr>\n",
       "      <th>219908</th>\n",
       "      <td>219908</td>\n",
       "      <td>737140</td>\n",
       "      <td>[680793]</td>\n",
       "    </tr>\n",
       "  </tbody>\n",
       "</table>\n",
       "<p>306033 rows × 3 columns</p>\n",
       "</div>"
      ],
      "text/plain": [
       "        Unnamed: 0  sent_nums total_hits\n",
       "9109          9109          2    [80879]\n",
       "14389        14389          2   [226229]\n",
       "17087        17087          2   [156118]\n",
       "147152      147152          2   [172701]\n",
       "29608        29608          2     [6625]\n",
       "...            ...        ...        ...\n",
       "89074        89074     737140   [733891]\n",
       "216278      216278     737140   [727385]\n",
       "168387      168387     737140   [704943]\n",
       "172022      172022     737140   [715426]\n",
       "219908      219908     737140   [680793]\n",
       "\n",
       "[306033 rows x 3 columns]"
      ]
     },
     "execution_count": 13,
     "metadata": {},
     "output_type": "execute_result"
    }
   ],
   "source": [
    "sentence_data = pd.read_csv(\"data/sentence_data.csv\")\n",
    "matches = pd.read_csv(\"data/all_sent_data.csv\")\n",
    "sentence_data.columns = [\"index\", \"file\", \"sentence\"]\n",
    "matches.sort_values(\"sent_nums\")"
   ]
  },
  {
   "cell_type": "code",
   "execution_count": 27,
   "id": "herbal-course",
   "metadata": {},
   "outputs": [],
   "source": [
    "hits = matches.total_hits.tolist()\n",
    "original_sent = matches.sent_nums.tolist()\n",
    "all_sents = sentence_data.index.tolist()\n",
    "sentences = sentence_data.sentence.tolist()"
   ]
  },
  {
   "cell_type": "code",
   "execution_count": 6,
   "id": "cellular-supervision",
   "metadata": {},
   "outputs": [
    {
     "name": "stdout",
     "output_type": "stream",
     "text": [
      "306033\n"
     ]
    }
   ],
   "source": []
  },
  {
   "cell_type": "code",
   "execution_count": 30,
   "id": "noted-flush",
   "metadata": {},
   "outputs": [
    {
     "name": "stdout",
     "output_type": "stream",
     "text": [
      "0\n"
     ]
    }
   ],
   "source": [
    "final_hits = []\n",
    "y=0\n",
    "for sent in all_sents:\n",
    "    if y % 1000 == 0:\n",
    "        print (y)\n",
    "    x=0\n",
    "    total_hits = []\n",
    "    for sent_num in original_sent:\n",
    "        if sent_num == sent:\n",
    "            hit = hits[x]\n",
    "            hit = int(hit.replace(\"[\", \"\").replace(\"]\", \"\"))\n",
    "            \n",
    "            total_hits.append(sentences[hit])\n",
    "        x=x+1\n",
    "    if len(total_hits) > 0:\n",
    "        final_hits.append(total_hits)\n",
    "    else:\n",
    "        final_hits.append(0)\n",
    "    y=y+1"
   ]
  },
  {
   "cell_type": "code",
   "execution_count": 29,
   "id": "previous-province",
   "metadata": {},
   "outputs": [
    {
     "data": {
      "text/plain": [
       "[0,\n",
       " 0,\n",
       " ['1 Tell me a little bit about your family life before the war.',\n",
       "  'And tell us a little bit about your family life before the war.',\n",
       "  'Q. Tell me a little bit about your family before the war?',\n",
       "  'Tell me a little bit about your family life before the war ... Well, I had a mother and father, of course.',\n",
       "  'Can you tell me a little bit about your childhood and your family life before the war?',\n",
       "  '01:01:47 Tell me a little bit about your family life before the war?',\n",
       "  \"If you'll tell me a little bit about your life before the war?\",\n",
       "  'However, would you tell us, just very briefly, a little bit about your family before the war?',\n",
       "  'Tell me a little bit about your family life before th e war and your town.',\n",
       "  'Tell me please a a few words about the first days of the war and how this impacted on the life of your family.',\n",
       "  'Called Uccle, U-C-C-L-E. Tell me a little bit about your family life before the war.'],\n",
       " 0,\n",
       " 0,\n",
       " ['Since you went to a Jewish school, I suppose most of your friends came from that circle.',\n",
       "  'Im trying to get a sense of if your friends were Jewish, if your friends were mixed, did you go to a public school, and that sort of -- I -- the first school I went to was a German school.',\n",
       "  'Back...uh...back in Germany, when you were growing up and becoming...you were still in th e school, a regular public school, did you have non-Jewish friends?',\n",
       "  'Did you talk about it with your friends in the Jewish school?',\n",
       "  'You knew you were different, that you were foreigners, but did they know that you were Jewish in the public school?',\n",
       "  'I think the ones that were in school and you know we had lived our lives to, within the Jewish community and schools were mixed and I had friends there, yes.',\n",
       "  'You said you were one of two Jewish children in the school, so your friends were not Jewish.',\n",
       "  'Do you recall be-before 1938, do you recall oh, first of all, did you have any non-Jewish friends, given that you were going to a new school?',\n",
       "  'Were you upset that you werent seeing your friends, or did -- I saw my fr -- -- you see your non-Jewish friends after school?',\n",
       "  'How did your Jewish friends who were in class with you, how did they react to that?',\n",
       "  'Ah yes, you ask me I -- I have many f -- I ha ve not very close friend, and I -- Jewish people this time before -- during school, because in a class was 40 people, 50, and was two Jewish people, you know.',\n",
       "  'When you went to public school, you must have been in school with non-Jews.'],\n",
       " 0,\n",
       " ['But I said, the Jewish community in my city, it was very small.',\n",
       "  'Was this little town primarily Jewish, or was it -- No, no, it was just -- It wasnt. --',\n",
       "  'It was it was a small...for a American standards, a small Jewish community.',\n",
       "  'But mostly like the little towns, most of it populated from the Jews.',\n",
       "  \"I wouldn't want to be quoted on it because I don't know, but it was a small town to begin with, and the Jewish population wasn't that tremendous.\",\n",
       "  'So, it was a small town, but some very excellent in architecture, in culture, and in Jewish life, too.',\n",
       "  'There were always I would guess maybe fifteen to twenty thousand Jewish people in this very small section of the ghetto, uh small section of the town.',\n",
       "  'Its a small city, was a population population was maybe Jews was like maybe 20,000 Jews or 25,000.',\n",
       "  'Bacu even was a small town, had a big Jewish community over there.',\n",
       "  'And by small, I mean a small Jewish community; but there were only like 30 families living there.'],\n",
       " 0,\n",
       " 0]"
      ]
     },
     "execution_count": 29,
     "metadata": {},
     "output_type": "execute_result"
    }
   ],
   "source": [
    "final_hits"
   ]
  },
  {
   "cell_type": "code",
   "execution_count": null,
   "id": "unauthorized-coverage",
   "metadata": {},
   "outputs": [],
   "source": [
    "sentence_data[\"matches\"] = final_hits"
   ]
  },
  {
   "cell_type": "code",
   "execution_count": null,
   "id": "fluid-danish",
   "metadata": {},
   "outputs": [],
   "source": [
    "sentence_data"
   ]
  },
  {
   "cell_type": "code",
   "execution_count": null,
   "id": "generous-ready",
   "metadata": {},
   "outputs": [],
   "source": [
    "sentence_data.to_csv(\"data/complete_data.csv\")"
   ]
  },
  {
   "cell_type": "code",
   "execution_count": null,
   "id": "grave-robertson",
   "metadata": {},
   "outputs": [],
   "source": []
  }
 ],
 "metadata": {
  "kernelspec": {
   "display_name": "Python 3",
   "language": "python",
   "name": "python3"
  },
  "language_info": {
   "codemirror_mode": {
    "name": "ipython",
    "version": 3
   },
   "file_extension": ".py",
   "mimetype": "text/x-python",
   "name": "python",
   "nbconvert_exporter": "python",
   "pygments_lexer": "ipython3",
   "version": "3.9.2"
  }
 },
 "nbformat": 4,
 "nbformat_minor": 5
}
